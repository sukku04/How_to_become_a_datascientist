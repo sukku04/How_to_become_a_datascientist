{
  "cells": [
    {
      "metadata": {
        "_uuid": "7251a2bd56ec41f9fadd263110b8bd9f4d5e0f16"
      },
      "cell_type": "markdown",
      "source": "In this nootbook, I am analyzing and expecting the job market of Data scientist based on the survey from Kaggle. (/n)\nThe format of report is based on  __[The Future of Jobs on WEF(World Economic Forum)](http://reports.weforum.org/future-of-jobs-2016/)__\n     "
    },
    {
      "metadata": {
        "_uuid": "5aa54e1335755a231040ce43c60c5734658d645b"
      },
      "cell_type": "markdown",
      "source": "## Table of Contents<br/>\n\n   1. Exploratory Analysis<br/>\n    - 1.1 Gender<br/>\n    - 1.2 Country<br/>\n    - 1.3 Salary<br/>\n    - 1.4 Job Title & Major<br/>\n    \n   2. Requirements to become a Data scientist<br/>\n    - 2.1 Recommended Degree <br/>\n    - 2.2 Recommended Skills <br/>\n    - 2.3 Importance of Algorithm/ Stats/ ML<br/>\n    - 2.4 Recommended Learning Platform<br/>\n\n   4. Job searching<br/>\n     - 3.1 The way to prove knowledge for Data scientist<br/>\n     - 3.2 Job researching source<br/>\n     \n   4. Conclusion<br/>\n     "
    },
    {
      "metadata": {
        "trusted": true,
        "collapsed": true,
        "_uuid": "30a2b02d105bfae618a4f285660638dec2d11b94"
      },
      "cell_type": "code",
      "source": "import numpy as np\nimport pandas as pd\nimport seaborn as sns\nimport matplotlib.pyplot as plt\n%matplotlib inline\nimport warnings # Suppress Deprecation and Incorrect Usage Warnings\nwarnings.filterwarnings('ignore')",
      "execution_count": null,
      "outputs": []
    },
    {
      "metadata": {
        "trusted": true,
        "_uuid": "f763ca49335605e170d04e116f0ed994c787bbbf",
        "collapsed": true
      },
      "cell_type": "code",
      "source": "response = pd.read_csv(\"../input/multipleChoiceResponses.csv\",encoding=\"ISO-8859-1\", low_memory=False)\nresponse.shape",
      "execution_count": null,
      "outputs": []
    },
    {
      "metadata": {
        "trusted": true,
        "_uuid": "a22f6305eadbb3733c0768c7e405e0f448add1a7",
        "collapsed": true
      },
      "cell_type": "code",
      "source": "response.head()",
      "execution_count": null,
      "outputs": []
    },
    {
      "metadata": {
        "_uuid": "ac3c6bb1c2d9980da3461c9ed20c6555931c21ff"
      },
      "cell_type": "markdown",
      "source": "## 1. Exploratory Analysis"
    },
    {
      "metadata": {
        "trusted": true,
        "_uuid": "7f9490262df0a29d0900968fb89695a6489a411b",
        "collapsed": true
      },
      "cell_type": "code",
      "source": "print('The total number of respondents:',response.shape[0])\nprint('Total number of Countries with respondents:',response['Country'].nunique())\nprint('Country with highest respondents:',response['Country'].value_counts().index[0])\nprint('Youngest respondent:',response['Age'].min(),' and Oldest respondent:',response['Age'].max())",
      "execution_count": null,
      "outputs": []
    },
    {
      "metadata": {
        "_uuid": "dc6e8d0abff720e3bef8a88a0df758372d7f6c5b"
      },
      "cell_type": "markdown",
      "source": "> We can say there is **something wrong with age**. it's needed to be rearranged properly"
    },
    {
      "metadata": {
        "_uuid": "d3165a67f8a2845bd39259b9a5ba0ee88d5c1447"
      },
      "cell_type": "markdown",
      "source": "### 1.1 Gender"
    },
    {
      "metadata": {
        "trusted": true,
        "_uuid": "4876d1c2e78acdfb8328cf04410cac2ddb260e0e",
        "collapsed": true
      },
      "cell_type": "code",
      "source": "response['GenderSelect'].value_counts()",
      "execution_count": null,
      "outputs": []
    },
    {
      "metadata": {
        "trusted": true,
        "_uuid": "3a92fb76fb19144d6820bc6a228d1e451d1a2a67",
        "collapsed": true
      },
      "cell_type": "code",
      "source": "plt.subplots()\nsns.countplot(y=response['GenderSelect'],order=response['GenderSelect'].value_counts().index)\nplt.show()",
      "execution_count": null,
      "outputs": []
    },
    {
      "metadata": {
        "trusted": true,
        "collapsed": true,
        "_uuid": "04a0749fb09e8be3c0d224cfaec33e180eb2d949"
      },
      "cell_type": "markdown",
      "source": "### 1.2 Country"
    },
    {
      "metadata": {
        "trusted": true,
        "_uuid": "555821e6aba7d2366bf895989d222a6a53687ee8",
        "collapsed": true
      },
      "cell_type": "code",
      "source": "response['Country'].value_counts().head(10)",
      "execution_count": null,
      "outputs": []
    },
    {
      "metadata": {
        "trusted": true,
        "_uuid": "c7e1b842ea618b5e739f937335f54d5b9b4217f0",
        "collapsed": true
      },
      "cell_type": "code",
      "source": "response_coun=response['Country'].value_counts()[:10].to_frame()\nsns.barplot(response_coun['Country'],response_coun.index,palette='inferno')\nplt.title(\"Top 10 Countries by number of respondents\")\nfig=plt.gcf()\nfig.set_size_inches(10,5)\nplt.show()\n",
      "execution_count": null,
      "outputs": []
    },
    {
      "metadata": {
        "trusted": true,
        "collapsed": true,
        "_uuid": "d3771207d9261ae78253324f9686b788c7c812c1"
      },
      "cell_type": "code",
      "source": "",
      "execution_count": null,
      "outputs": []
    },
    {
      "metadata": {
        "_uuid": "c74cb08e8d5894cbdb512ad77bbcb14fe9af3e26"
      },
      "cell_type": "markdown",
      "source": "### 1.3 Salary"
    },
    {
      "metadata": {
        "_uuid": "0c5e798a3e5d141db9138fae26c93f075d9b2bc3"
      },
      "cell_type": "markdown",
      "source": "#### Conversion from different currenty to USD"
    },
    {
      "metadata": {
        "trusted": true,
        "_uuid": "00a58e2521358dc2d526414d4d91c79863dbd4ee",
        "collapsed": true
      },
      "cell_type": "code",
      "source": "response['CompensationAmount']=response['CompensationAmount'].str.replace(',','')\nresponse['CompensationAmount']=response['CompensationAmount'].str.replace('-','')\n\nrates=pd.read_csv('../input/conversionRates.csv')\nrates.drop('Unnamed: 0',axis=1,inplace=True)\nsalary=response[['CompensationAmount','CompensationCurrency','GenderSelect','Country','CurrentJobTitleSelect']].dropna()\nsalary=salary.merge(rates,left_on='CompensationCurrency',right_on='originCountry',how='left')\nsalary['Salary']=pd.to_numeric(salary['CompensationAmount'])*salary['exchangeRate']\nprint('Maximum Salary is USD $',salary['Salary'].dropna().astype(int).max())\nprint('Minimum Salary is USD $',salary['Salary'].dropna().astype(int).min())\nprint('Median Salary is USD $',salary['Salary'].dropna().astype(int).median())",
      "execution_count": null,
      "outputs": []
    },
    {
      "metadata": {
        "_uuid": "aa99a256146aded73087dcca962778eb81b421e1"
      },
      "cell_type": "markdown",
      "source": "Salary column is need to be rearragend by IsNull but this time, I will use just **median** due to lack of time :("
    },
    {
      "metadata": {
        "trusted": true,
        "_uuid": "b03694ec1cc334997c188aca0b951ee03bd77a93",
        "collapsed": true
      },
      "cell_type": "code",
      "source": "plt.subplots(figsize=(10,6))\nsalary=salary[salary['Salary']<1000000]\nsns.distplot(salary['Salary'])\nplt.title('Salary Distribution')\nplt.show()",
      "execution_count": null,
      "outputs": []
    },
    {
      "metadata": {
        "trusted": true,
        "_uuid": "628797811abdcdbaf56a0398ef8344e3c6ddf30e",
        "collapsed": true
      },
      "cell_type": "code",
      "source": "for i in response['']\n    if(response[\"Country\"] == 'South Korea'):\n    ",
      "execution_count": null,
      "outputs": []
    },
    {
      "metadata": {
        "trusted": true,
        "collapsed": true,
        "_uuid": "3919a93476c48b584659dd625c56dbe8b569f650"
      },
      "cell_type": "code",
      "source": "sal_coun=salary.groupby('Country')['Salary'].median().sort_values(ascending=False)[:10].to_frame()\nsns.barplot(sal_coun['Salary'],sal_coun.index,palette=\"Spectral\")\nplt.axvline(salary['Salary'].median(),linestyle='dashed')\nplt.title('Top 10 Countries by compensation')\nplt.xlabel('')\nplt.ylabel('')\nplt.subplots_adjust(wspace=0.8)\nplt.show()",
      "execution_count": null,
      "outputs": []
    },
    {
      "metadata": {
        "_uuid": "17486d63780ad174e7e8042639b3d0228f8f8dfe"
      },
      "cell_type": "markdown",
      "source": "> ### 1.4 Job Title & Major"
    },
    {
      "metadata": {
        "trusted": true,
        "_uuid": "3a9ca595b0d45cf4a1641d6b4798b91e2819b906",
        "collapsed": true
      },
      "cell_type": "code",
      "source": "jbttl_df = pd.DataFrame(response['CurrentJobTitleSelect'].value_counts())\njbttl_df['Ratio'] = pd.DataFrame(response['CurrentJobTitleSelect'].value_counts(normalize=True))\njbttl_df.head(10)",
      "execution_count": null,
      "outputs": []
    },
    {
      "metadata": {
        "trusted": true,
        "_uuid": "3712a86f9deb180f25d81bd79d9033a095d970bf",
        "collapsed": true
      },
      "cell_type": "code",
      "source": "major_df = pd.DataFrame(response['MajorSelect'].value_counts())\nmajor_df['Ratio'] = pd.DataFrame(response['MajorSelect'].value_counts(normalize=True))\nmajor_df.head(10)",
      "execution_count": null,
      "outputs": []
    },
    {
      "metadata": {
        "trusted": true,
        "_uuid": "3952e0fe5cdd4e17660e646cd2bc9fb7c3b4082f",
        "collapsed": true
      },
      "cell_type": "code",
      "source": "major_df['Ratio'][:10].plot(kind='barh')",
      "execution_count": null,
      "outputs": []
    },
    {
      "metadata": {
        "trusted": true,
        "_uuid": "72ca6ad2dab312bf530ddffd2e15203c9065e55e",
        "collapsed": true
      },
      "cell_type": "code",
      "source": "jbttl_df['Ratio'][:10].plot(kind='barh')",
      "execution_count": null,
      "outputs": []
    },
    {
      "metadata": {
        "_uuid": "3616653eb98d17a1e5b64f985424c6ceb87a34a7"
      },
      "cell_type": "markdown",
      "source": "> ### 1.5 Experienced period for Programming "
    },
    {
      "metadata": {
        "trusted": true,
        "_uuid": "51e561aa3bd9f77f372d8b9bd2ef8ec80af4614f",
        "collapsed": true
      },
      "cell_type": "code",
      "source": "sns.countplot(y='Tenure', data=response, order=response['Tenure'].value_counts().index)",
      "execution_count": null,
      "outputs": []
    },
    {
      "metadata": {
        "_uuid": "471b4ad5e37d77b9894acb43c9892b1208126906"
      },
      "cell_type": "markdown",
      "source": "## 2. Requirements to become a Data scientist"
    },
    {
      "metadata": {
        "_uuid": "c98a60020e82c362b4cf35a41106bb48ea6d343e"
      },
      "cell_type": "markdown",
      "source": "> ### 2.1 Recommeded Degree \n"
    },
    {
      "metadata": {
        "trusted": true,
        "_uuid": "f624a3aef9d32f2a4dc122a3806da8d468ffb22c",
        "collapsed": true
      },
      "cell_type": "code",
      "source": "edu_df = pd.DataFrame(response['FormalEducation'].value_counts())\nedu_df['Ratio'] = pd.DataFrame(response['FormalEducation'].value_counts(normalize=True))\nedu_df.head()",
      "execution_count": null,
      "outputs": []
    },
    {
      "metadata": {
        "trusted": true,
        "_uuid": "e32619b524e0da1ecb45247ac70e655b3164165c",
        "collapsed": true
      },
      "cell_type": "code",
      "source": "sns.barplot(edu_df['Ratio'],edu_df['Ratio'].index,palette='inferno')\nplt.title(\"Formal Education\")\nplt.xlabel('')\nplt.ylabel('')\nplt.subplots_adjust(wspace=0.8)\nplt.show()",
      "execution_count": null,
      "outputs": []
    },
    {
      "metadata": {
        "_uuid": "baf135422ac9f7a79735e18cbdb4d5ce4f30ea28"
      },
      "cell_type": "markdown",
      "source": "In total, Master and Ph.D degree is mainly(around 73%) composed of education level <br/>\n** For the importance of degree, we need to dig into 'JobSkillImportanceDegree' column **"
    },
    {
      "metadata": {
        "_uuid": "20c90730f0bf9abb02b065b13337127aa3c0bf15"
      },
      "cell_type": "markdown",
      "source": "> ### 2.2 Recommended Skills"
    },
    {
      "metadata": {
        "trusted": true,
        "_uuid": "aaf160672bb2856bde93e1fbb206eeae1914ceb4",
        "collapsed": true
      },
      "cell_type": "code",
      "source": "sns.countplot(y='LanguageRecommendationSelect', data=response, order=response['LanguageRecommendationSelect'].value_counts()[:9].index)\nplt.title(\"Recommended languages\")\nplt.xlabel('')\nplt.ylabel('')\nplt.show()",
      "execution_count": null,
      "outputs": []
    },
    {
      "metadata": {
        "_uuid": "8820a1daa95560f0ca114c9f91d1c02b7be81fd7"
      },
      "cell_type": "markdown",
      "source": "> ### 2.3 Importance of Algorithm / Stats / ML"
    },
    {
      "metadata": {
        "trusted": true,
        "_uuid": "0ebe0490a8dd8c664da4d324313062a3ea080cea",
        "collapsed": true
      },
      "cell_type": "code",
      "source": "sns.countplot(y='MLToolNextYearSelect', data=response, order=response['MLToolNextYearSelect'].value_counts()[:9].index)\nplt.title(\"Recommended ML Skills\")\nplt.xlabel('')\nplt.ylabel('')\nplt.show()",
      "execution_count": null,
      "outputs": []
    },
    {
      "metadata": {
        "_uuid": "3040babe0b80142654dda8c2d39e1cc013f22d84"
      },
      "cell_type": "markdown",
      "source": "> ### 2.4 Importance of Algorithms "
    },
    {
      "metadata": {
        "trusted": true,
        "_uuid": "075b2bba67bd18603a15ba7c1b2d77669cebe1c2",
        "collapsed": true
      },
      "cell_type": "code",
      "source": "f,ax=plt.subplots(1,2,figsize=(25,12))\nsns.countplot(y=response['AlgorithmUnderstandingLevel'],order=response['AlgorithmUnderstandingLevel'].value_counts().index,ax=ax[0],palette=sns.color_palette('summer',15))\nsns.countplot(response['JobSkillImportanceStats'],ax=ax[1])\nax[0].set_title('Algorithm Understanding')\nax[0].set_ylabel('')\nax[1].set_title('Knowledge of Stats')\nax[1].set_xlabel('')\nplt.show()",
      "execution_count": null,
      "outputs": []
    },
    {
      "metadata": {
        "_uuid": "0a0a3524989df4153fd790c0f82d4fe1061c07f2"
      },
      "cell_type": "markdown",
      "source": "> ### 2.5 Recommended Learning platform"
    },
    {
      "metadata": {
        "trusted": true,
        "_uuid": "ac9ee140c521ed03e6d294e0c3835c8dd5f2ab00",
        "collapsed": true
      },
      "cell_type": "code",
      "source": "sns.countplot(y='LearningPlatformSelect', data=response, order=response['LearningPlatformSelect'].value_counts()[:9].index)\nplt.title(\"Recommended Learning platform\")\nplt.xlabel('')\nplt.ylabel('')\nplt.show()",
      "execution_count": null,
      "outputs": []
    },
    {
      "metadata": {
        "_uuid": "358aa653f50b02daba2a3c0e52dd8a8287d9c2fc"
      },
      "cell_type": "markdown",
      "source": "## 3. Job searching"
    },
    {
      "metadata": {
        "_uuid": "048dd557278c78942214e939d66f0c5275b38661"
      },
      "cell_type": "markdown",
      "source": "> ### 3.1 The way to prove knowledge for Data scientist"
    },
    {
      "metadata": {
        "trusted": true,
        "_uuid": "faa49a2f5c917b7bf73caaffca5c5456a20b8b3e",
        "collapsed": true
      },
      "cell_type": "code",
      "source": "sns.countplot(y=response['ProveKnowledgeSelect'],order=response['ProveKnowledgeSelect'].value_counts().index,palette=sns.color_palette('inferno',15))\nplt.xlabel('')\nplt.ylabel('')\nplt.title('How to prove knowledge')\nplt.show()",
      "execution_count": null,
      "outputs": []
    },
    {
      "metadata": {
        "_uuid": "4567a77cb684237ef96b5b4025ca6cfafb95bcd0"
      },
      "cell_type": "markdown",
      "source": "> ### 3.2 Job searching Method"
    },
    {
      "metadata": {
        "trusted": true,
        "_uuid": "7c6d46c427377f5b37d36d12b4e00f4b0aa59029",
        "collapsed": true
      },
      "cell_type": "code",
      "source": "plt.subplots(figsize=(10,8))\nresponse.groupby(['EmployerSearchMethod'])['Age'].count().sort_values(ascending=True).plot.barh(width=0.8,color=sns.color_palette('winter',10))\nplt.title('Job Search Method',size=15)\nplt.ylabel('')\nplt.show()",
      "execution_count": null,
      "outputs": []
    },
    {
      "metadata": {
        "_uuid": "11891decfe1399df8ec6f209a1d4bf2ba212f87d"
      },
      "cell_type": "markdown",
      "source": "## 4. Conclusion"
    },
    {
      "metadata": {
        "_uuid": "695d2516191054366bdc1cdcf6df5b84dd41b126"
      },
      "cell_type": "markdown",
      "source": "> * Required relevant skills of Data Science : Python > R > SQL. When it comes to ML, Tensorflow is the most important skill. Those skills are considered essential skills and It is needed to be digging into for the importance of each skill.\n* Statistics and Algorithm are also important, especially Statistics, people prefer self-learning platform to degree program. It might be said that the importance of degree might is not true. Kaggle, Individual project and Online course can be appealed to the industry.\n* When we are joining to company, Relevaent experience > Submission on Kaggle > Online course Certification  > Degree(Master/Ph.D) > Portpolio on Github. Many of respondents tend to apply for job vacancy through network. This results, of course, that limit to Job market in US.\n\n### Limitation\n* More elaborate Data cleaning is needed due to Null value. \n* For more detailed analysis and insights, each analysis depeds on various sectors like Age/Nation/Gender/Industry are required."
    }
  ],
  "metadata": {
    "kernelspec": {
      "display_name": "Python 3",
      "language": "python",
      "name": "python3"
    },
    "language_info": {
      "name": "python",
      "version": "3.6.6",
      "mimetype": "text/x-python",
      "codemirror_mode": {
        "name": "ipython",
        "version": 3
      },
      "pygments_lexer": "ipython3",
      "nbconvert_exporter": "python",
      "file_extension": ".py"
    }
  },
  "nbformat": 4,
  "nbformat_minor": 1
}