{
 "cells": [
  {
   "cell_type": "markdown",
   "metadata": {
    "_uuid": "7251a2bd56ec41f9fadd263110b8bd9f4d5e0f16"
   },
   "source": [
    "In this nootbook, I am analyzing and expecting the job market of Data scientist based on the survey from Kaggle. (/n)\n",
    "The format of report is based on  __[The Future of Jobs on WEF(World Economic Forum)](http://reports.weforum.org/future-of-jobs-2016/)__\n",
    "     "
   ]
  },
  {
   "cell_type": "markdown",
   "metadata": {
    "_uuid": "5aa54e1335755a231040ce43c60c5734658d645b"
   },
   "source": [
    "## Table of Contents<br/>\n",
    "\n",
    "   1. Exploratory Analysis<br/>\n",
    "    - 1.1 Gender<br/>\n",
    "    - 1.2 Country<br/>\n",
    "    - 1.3 Salary<br/>\n",
    "    - 1.4 Job Title & Major<br/>\n",
    "    \n",
    "   2. Requirements to become a Data scientist<br/>\n",
    "    - 2.1 Recommended Degree <br/>\n",
    "    - 2.2 Recommended Skills <br/>\n",
    "    - 2.3 Importance of Algorithm/ Stats/ ML<br/>\n",
    "    - 2.4 Recommended Learning Platform<br/>\n",
    "\n",
    "   4. Job searching<br/>\n",
    "     - 3.1 The way to prove knowledge for Data scientist<br/>\n",
    "     - 3.2 Job researching source<br/>\n",
    "     \n",
    "   4. Conclusion<br/>\n",
    "     "
   ]
  },
  {
   "cell_type": "code",
   "execution_count": 16,
   "metadata": {
    "_uuid": "30a2b02d105bfae618a4f285660638dec2d11b94"
   },
   "outputs": [],
   "source": [
    "import numpy as np\n",
    "import pandas as pd\n",
    "import seaborn as sns\n",
    "import matplotlib.pyplot as plt\n",
    "%matplotlib inline\n",
    "import warnings # Suppress Deprecation and Incorrect Usage Warnings\n",
    "warnings.filterwarnings('ignore')"
   ]
  },
  {
   "cell_type": "code",
   "execution_count": 17,
   "metadata": {
    "_uuid": "f763ca49335605e170d04e116f0ed994c787bbbf"
   },
   "outputs": [
    {
     "data": {
      "text/plain": [
       "(16716, 228)"
      ]
     },
     "execution_count": 17,
     "metadata": {},
     "output_type": "execute_result"
    }
   ],
   "source": [
    "response = pd.read_csv(\"multipleChoiceResponses.csv\",encoding=\"ISO-8859-1\", low_memory=False)\n",
    "response.shape"
   ]
  },
  {
   "cell_type": "code",
   "execution_count": 18,
   "metadata": {
    "_uuid": "a22f6305eadbb3733c0768c7e405e0f448add1a7"
   },
   "outputs": [
    {
     "data": {
      "text/html": [
       "<div>\n",
       "<style scoped>\n",
       "    .dataframe tbody tr th:only-of-type {\n",
       "        vertical-align: middle;\n",
       "    }\n",
       "\n",
       "    .dataframe tbody tr th {\n",
       "        vertical-align: top;\n",
       "    }\n",
       "\n",
       "    .dataframe thead th {\n",
       "        text-align: right;\n",
       "    }\n",
       "</style>\n",
       "<table border=\"1\" class=\"dataframe\">\n",
       "  <thead>\n",
       "    <tr style=\"text-align: right;\">\n",
       "      <th></th>\n",
       "      <th>GenderSelect</th>\n",
       "      <th>Country</th>\n",
       "      <th>Age</th>\n",
       "      <th>EmploymentStatus</th>\n",
       "      <th>StudentStatus</th>\n",
       "      <th>LearningDataScience</th>\n",
       "      <th>CodeWriter</th>\n",
       "      <th>CareerSwitcher</th>\n",
       "      <th>CurrentJobTitleSelect</th>\n",
       "      <th>TitleFit</th>\n",
       "      <th>...</th>\n",
       "      <th>JobFactorExperienceLevel</th>\n",
       "      <th>JobFactorDepartment</th>\n",
       "      <th>JobFactorTitle</th>\n",
       "      <th>JobFactorCompanyFunding</th>\n",
       "      <th>JobFactorImpact</th>\n",
       "      <th>JobFactorRemote</th>\n",
       "      <th>JobFactorIndustry</th>\n",
       "      <th>JobFactorLeaderReputation</th>\n",
       "      <th>JobFactorDiversity</th>\n",
       "      <th>JobFactorPublishingOpportunity</th>\n",
       "    </tr>\n",
       "  </thead>\n",
       "  <tbody>\n",
       "    <tr>\n",
       "      <th>0</th>\n",
       "      <td>Non-binary, genderqueer, or gender non-conforming</td>\n",
       "      <td>NaN</td>\n",
       "      <td>NaN</td>\n",
       "      <td>Employed full-time</td>\n",
       "      <td>NaN</td>\n",
       "      <td>NaN</td>\n",
       "      <td>Yes</td>\n",
       "      <td>NaN</td>\n",
       "      <td>DBA/Database Engineer</td>\n",
       "      <td>Fine</td>\n",
       "      <td>...</td>\n",
       "      <td>NaN</td>\n",
       "      <td>NaN</td>\n",
       "      <td>NaN</td>\n",
       "      <td>NaN</td>\n",
       "      <td>NaN</td>\n",
       "      <td>NaN</td>\n",
       "      <td>NaN</td>\n",
       "      <td>NaN</td>\n",
       "      <td>NaN</td>\n",
       "      <td>NaN</td>\n",
       "    </tr>\n",
       "    <tr>\n",
       "      <th>1</th>\n",
       "      <td>Female</td>\n",
       "      <td>United States</td>\n",
       "      <td>30.0</td>\n",
       "      <td>Not employed, but looking for work</td>\n",
       "      <td>NaN</td>\n",
       "      <td>NaN</td>\n",
       "      <td>NaN</td>\n",
       "      <td>NaN</td>\n",
       "      <td>NaN</td>\n",
       "      <td>NaN</td>\n",
       "      <td>...</td>\n",
       "      <td>NaN</td>\n",
       "      <td>NaN</td>\n",
       "      <td>NaN</td>\n",
       "      <td>NaN</td>\n",
       "      <td>NaN</td>\n",
       "      <td>NaN</td>\n",
       "      <td>NaN</td>\n",
       "      <td>Somewhat important</td>\n",
       "      <td>NaN</td>\n",
       "      <td>NaN</td>\n",
       "    </tr>\n",
       "    <tr>\n",
       "      <th>2</th>\n",
       "      <td>Male</td>\n",
       "      <td>Canada</td>\n",
       "      <td>28.0</td>\n",
       "      <td>Not employed, but looking for work</td>\n",
       "      <td>NaN</td>\n",
       "      <td>NaN</td>\n",
       "      <td>NaN</td>\n",
       "      <td>NaN</td>\n",
       "      <td>NaN</td>\n",
       "      <td>NaN</td>\n",
       "      <td>...</td>\n",
       "      <td>Very Important</td>\n",
       "      <td>Very Important</td>\n",
       "      <td>Very Important</td>\n",
       "      <td>Very Important</td>\n",
       "      <td>Very Important</td>\n",
       "      <td>Very Important</td>\n",
       "      <td>Very Important</td>\n",
       "      <td>Very Important</td>\n",
       "      <td>Very Important</td>\n",
       "      <td>Very Important</td>\n",
       "    </tr>\n",
       "    <tr>\n",
       "      <th>3</th>\n",
       "      <td>Male</td>\n",
       "      <td>United States</td>\n",
       "      <td>56.0</td>\n",
       "      <td>Independent contractor, freelancer, or self-em...</td>\n",
       "      <td>NaN</td>\n",
       "      <td>NaN</td>\n",
       "      <td>Yes</td>\n",
       "      <td>NaN</td>\n",
       "      <td>Operations Research Practitioner</td>\n",
       "      <td>Poorly</td>\n",
       "      <td>...</td>\n",
       "      <td>NaN</td>\n",
       "      <td>NaN</td>\n",
       "      <td>NaN</td>\n",
       "      <td>NaN</td>\n",
       "      <td>NaN</td>\n",
       "      <td>NaN</td>\n",
       "      <td>NaN</td>\n",
       "      <td>NaN</td>\n",
       "      <td>NaN</td>\n",
       "      <td>NaN</td>\n",
       "    </tr>\n",
       "    <tr>\n",
       "      <th>4</th>\n",
       "      <td>Male</td>\n",
       "      <td>Taiwan</td>\n",
       "      <td>38.0</td>\n",
       "      <td>Employed full-time</td>\n",
       "      <td>NaN</td>\n",
       "      <td>NaN</td>\n",
       "      <td>Yes</td>\n",
       "      <td>NaN</td>\n",
       "      <td>Computer Scientist</td>\n",
       "      <td>Fine</td>\n",
       "      <td>...</td>\n",
       "      <td>NaN</td>\n",
       "      <td>NaN</td>\n",
       "      <td>NaN</td>\n",
       "      <td>NaN</td>\n",
       "      <td>NaN</td>\n",
       "      <td>NaN</td>\n",
       "      <td>NaN</td>\n",
       "      <td>NaN</td>\n",
       "      <td>NaN</td>\n",
       "      <td>NaN</td>\n",
       "    </tr>\n",
       "  </tbody>\n",
       "</table>\n",
       "<p>5 rows × 228 columns</p>\n",
       "</div>"
      ],
      "text/plain": [
       "                                        GenderSelect        Country   Age  \\\n",
       "0  Non-binary, genderqueer, or gender non-conforming            NaN   NaN   \n",
       "1                                             Female  United States  30.0   \n",
       "2                                               Male         Canada  28.0   \n",
       "3                                               Male  United States  56.0   \n",
       "4                                               Male         Taiwan  38.0   \n",
       "\n",
       "                                    EmploymentStatus StudentStatus  \\\n",
       "0                                 Employed full-time           NaN   \n",
       "1                 Not employed, but looking for work           NaN   \n",
       "2                 Not employed, but looking for work           NaN   \n",
       "3  Independent contractor, freelancer, or self-em...           NaN   \n",
       "4                                 Employed full-time           NaN   \n",
       "\n",
       "  LearningDataScience CodeWriter CareerSwitcher  \\\n",
       "0                 NaN        Yes            NaN   \n",
       "1                 NaN        NaN            NaN   \n",
       "2                 NaN        NaN            NaN   \n",
       "3                 NaN        Yes            NaN   \n",
       "4                 NaN        Yes            NaN   \n",
       "\n",
       "              CurrentJobTitleSelect TitleFit              ...                \\\n",
       "0             DBA/Database Engineer     Fine              ...                 \n",
       "1                               NaN      NaN              ...                 \n",
       "2                               NaN      NaN              ...                 \n",
       "3  Operations Research Practitioner   Poorly              ...                 \n",
       "4                Computer Scientist     Fine              ...                 \n",
       "\n",
       "  JobFactorExperienceLevel JobFactorDepartment  JobFactorTitle  \\\n",
       "0                      NaN                 NaN             NaN   \n",
       "1                      NaN                 NaN             NaN   \n",
       "2           Very Important      Very Important  Very Important   \n",
       "3                      NaN                 NaN             NaN   \n",
       "4                      NaN                 NaN             NaN   \n",
       "\n",
       "  JobFactorCompanyFunding JobFactorImpact JobFactorRemote JobFactorIndustry  \\\n",
       "0                     NaN             NaN             NaN               NaN   \n",
       "1                     NaN             NaN             NaN               NaN   \n",
       "2          Very Important  Very Important  Very Important    Very Important   \n",
       "3                     NaN             NaN             NaN               NaN   \n",
       "4                     NaN             NaN             NaN               NaN   \n",
       "\n",
       "  JobFactorLeaderReputation JobFactorDiversity JobFactorPublishingOpportunity  \n",
       "0                       NaN                NaN                            NaN  \n",
       "1        Somewhat important                NaN                            NaN  \n",
       "2            Very Important     Very Important                 Very Important  \n",
       "3                       NaN                NaN                            NaN  \n",
       "4                       NaN                NaN                            NaN  \n",
       "\n",
       "[5 rows x 228 columns]"
      ]
     },
     "execution_count": 18,
     "metadata": {},
     "output_type": "execute_result"
    }
   ],
   "source": [
    "response.head()"
   ]
  },
  {
   "cell_type": "markdown",
   "metadata": {
    "_uuid": "ac3c6bb1c2d9980da3461c9ed20c6555931c21ff"
   },
   "source": [
    "## 1. Exploratory Analysis"
   ]
  },
  {
   "cell_type": "code",
   "execution_count": 19,
   "metadata": {
    "_uuid": "7f9490262df0a29d0900968fb89695a6489a411b"
   },
   "outputs": [
    {
     "name": "stdout",
     "output_type": "stream",
     "text": [
      "The total number of respondents: 16716\n",
      "Total number of Countries with respondents: 52\n",
      "Country with highest respondents: United States\n",
      "Youngest respondent: 0.0  and Oldest respondent: 100.0\n"
     ]
    }
   ],
   "source": [
    "print('The total number of respondents:',response.shape[0])\n",
    "print('Total number of Countries with respondents:',response['Country'].nunique())\n",
    "print('Country with highest respondents:',response['Country'].value_counts().index[0])\n",
    "print('Youngest respondent:',response['Age'].min(),' and Oldest respondent:',response['Age'].max())"
   ]
  },
  {
   "cell_type": "markdown",
   "metadata": {
    "_uuid": "dc6e8d0abff720e3bef8a88a0df758372d7f6c5b"
   },
   "source": [
    "> We can say there is **something wrong with age**. it's needed to be rearranged properly"
   ]
  },
  {
   "cell_type": "markdown",
   "metadata": {
    "_uuid": "d3165a67f8a2845bd39259b9a5ba0ee88d5c1447"
   },
   "source": [
    "### 1.1 Gender"
   ]
  },
  {
   "cell_type": "code",
   "execution_count": 20,
   "metadata": {
    "_uuid": "4876d1c2e78acdfb8328cf04410cac2ddb260e0e"
   },
   "outputs": [
    {
     "data": {
      "text/plain": [
       "Male                                                 13610\n",
       "Female                                                2778\n",
       "A different identity                                   159\n",
       "Non-binary, genderqueer, or gender non-conforming       74\n",
       "Name: GenderSelect, dtype: int64"
      ]
     },
     "execution_count": 20,
     "metadata": {},
     "output_type": "execute_result"
    }
   ],
   "source": [
    "response['GenderSelect'].value_counts()"
   ]
  },
  {
   "cell_type": "code",
   "execution_count": 21,
   "metadata": {
    "_uuid": "3a92fb76fb19144d6820bc6a228d1e451d1a2a67"
   },
   "outputs": [
    {
     "data": {
      "image/png": "[encoded data removed]",
      "text/plain": [
       "<Figure size 432x288 with 1 Axes>"
      ]
     },
     "metadata": {},
     "output_type": "display_data"
    }
   ],
   "source": [
    "plt.subplots()\n",
    "sns.countplot(y=response['GenderSelect'],order=response['GenderSelect'].value_counts().index)\n",
    "plt.show()"
   ]
  },
  {
   "cell_type": "markdown",
   "metadata": {
    "_uuid": "04a0749fb09e8be3c0d224cfaec33e180eb2d949",
    "collapsed": true
   },
   "source": [
    "### 1.2 Country"
   ]
  },
  {
   "cell_type": "code",
   "execution_count": 22,
   "metadata": {
    "_uuid": "555821e6aba7d2366bf895989d222a6a53687ee8"
   },
   "outputs": [
    {
     "data": {
      "text/plain": [
       "United States                  4197\n",
       "India                          2704\n",
       "Other                          1023\n",
       "Russia                          578\n",
       "United Kingdom                  535\n",
       "People 's Republic of China     471\n",
       "Brazil                          465\n",
       "Germany                         460\n",
       "France                          442\n",
       "Canada                          440\n",
       "Name: Country, dtype: int64"
      ]
     },
     "execution_count": 22,
     "metadata": {},
     "output_type": "execute_result"
    }
   ],
   "source": [
    "response['Country'].value_counts().head(10)"
   ]
  },
  {
   "cell_type": "code",
   "execution_count": 23,
   "metadata": {
    "_uuid": "c7e1b842ea618b5e739f937335f54d5b9b4217f0"
   },
   "outputs": [
    {
     "data": {
      "image/png": "[encoded data removed]",
      "text/plain": [
       "<Figure size 720x360 with 1 Axes>"
      ]
     },
     "metadata": {},
     "output_type": "display_data"
    }
   ],
   "source": [
    "response_coun=response['Country'].value_counts()[:10].to_frame()\n",
    "sns.barplot(response_coun['Country'],response_coun.index,palette='inferno')\n",
    "plt.title(\"Top 10 Countries by number of respondents\")\n",
    "fig=plt.gcf()\n",
    "fig.set_size_inches(10,5)\n",
    "plt.show()\n"
   ]
  },
  {
   "cell_type": "code",
   "execution_count": null,
   "metadata": {
    "_uuid": "d3771207d9261ae78253324f9686b788c7c812c1"
   },
   "outputs": [],
   "source": []
  },
  {
   "cell_type": "markdown",
   "metadata": {
    "_uuid": "c74cb08e8d5894cbdb512ad77bbcb14fe9af3e26"
   },
   "source": [
    "### 1.3 Salary"
   ]
  },
  {
   "cell_type": "markdown",
   "metadata": {
    "_uuid": "0c5e798a3e5d141db9138fae26c93f075d9b2bc3"
   },
   "source": [
    "#### Conversion from different currenty to USD"
   ]
  },
  {
   "cell_type": "code",
   "execution_count": 24,
   "metadata": {
    "_uuid": "00a58e2521358dc2d526414d4d91c79863dbd4ee"
   },
   "outputs": [
    {
     "name": "stdout",
     "output_type": "stream",
     "text": [
      "Maximum Salary is USD $ 28297400000\n",
      "Minimum Salary is USD $ 0\n",
      "Median Salary is USD $ 53812.0\n"
     ]
    }
   ],
   "source": [
    "response['CompensationAmount']=response['CompensationAmount'].str.replace(',','')\n",
    "response['CompensationAmount']=response['CompensationAmount'].str.replace('-','')\n",
    "\n",
    "rates=pd.read_csv('conversionRates.csv')\n",
    "rates.drop('Unnamed: 0',axis=1,inplace=True)\n",
    "salary=response[['CompensationAmount','CompensationCurrency','GenderSelect','Country','CurrentJobTitleSelect']].dropna()\n",
    "salary=salary.merge(rates,left_on='CompensationCurrency',right_on='originCountry',how='left')\n",
    "salary['Salary']=pd.to_numeric(salary['CompensationAmount'])*salary['exchangeRate']\n",
    "print('Maximum Salary is USD $',salary['Salary'].dropna().astype(int).max())\n",
    "print('Minimum Salary is USD $',salary['Salary'].dropna().astype(int).min())\n",
    "print('Median Salary is USD $',salary['Salary'].dropna().astype(int).median())"
   ]
  },
  {
   "cell_type": "markdown",
   "metadata": {
    "_uuid": "aa99a256146aded73087dcca962778eb81b421e1"
   },
   "source": [
    "Salary column is need to be rearragend by IsNull but this time, I will use just **median** due to lack of time :("
   ]
  },
  {
   "cell_type": "code",
   "execution_count": 25,
   "metadata": {
    "_uuid": "b03694ec1cc334997c188aca0b951ee03bd77a93"
   },
   "outputs": [
    {
     "data": {
      "image/png": "[encoded data removed]",
      "text/plain": [
       "<Figure size 720x432 with 1 Axes>"
      ]
     },
     "metadata": {},
     "output_type": "display_data"
    }
   ],
   "source": [
    "plt.subplots(figsize=(10,6))\n",
    "salary=salary[salary['Salary']<1000000]\n",
    "sns.distplot(salary['Salary'])\n",
    "plt.title('Salary Distribution')\n",
    "plt.show()"
   ]
  },
  {
   "cell_type": "code",
   "execution_count": 26,
   "metadata": {
    "_uuid": "628797811abdcdbaf56a0398ef8344e3c6ddf30e"
   },
   "outputs": [
    {
     "ename": "SyntaxError",
     "evalue": "invalid syntax (<ipython-input-26-1deaca69482e>, line 1)",
     "output_type": "error",
     "traceback": [
      "\u001b[0;36m  File \u001b[0;32m\"<ipython-input-26-1deaca69482e>\"\u001b[0;36m, line \u001b[0;32m1\u001b[0m\n\u001b[0;31m    for i in response['']\u001b[0m\n\u001b[0m                         ^\u001b[0m\n\u001b[0;31mSyntaxError\u001b[0m\u001b[0;31m:\u001b[0m invalid syntax\n"
     ]
    }
   ],
   "source": [
    "for i in response['']\n",
    "    if(response[\"Country\"] == 'South Korea'):\n",
    "    "
   ]
  },
  {
   "cell_type": "code",
   "execution_count": null,
   "metadata": {
    "_uuid": "3919a93476c48b584659dd625c56dbe8b569f650"
   },
   "outputs": [],
   "source": [
    "sal_coun=salary.groupby('Country')['Salary'].median().sort_values(ascending=False)[:10].to_frame()\n",
    "sns.barplot(sal_coun['Salary'],sal_coun.index,palette=\"Spectral\")\n",
    "plt.axvline(salary['Salary'].median(),linestyle='dashed')\n",
    "plt.title('Top 10 Countries by compensation')\n",
    "plt.xlabel('')\n",
    "plt.ylabel('')\n",
    "plt.subplots_adjust(wspace=0.8)\n",
    "plt.show()"
   ]
  },
  {
   "cell_type": "markdown",
   "metadata": {
    "_uuid": "17486d63780ad174e7e8042639b3d0228f8f8dfe"
   },
   "source": [
    "> ### 1.4 Job Title & Major"
   ]
  },
  {
   "cell_type": "code",
   "execution_count": null,
   "metadata": {
    "_uuid": "3a9ca595b0d45cf4a1641d6b4798b91e2819b906"
   },
   "outputs": [],
   "source": [
    "jbttl_df = pd.DataFrame(response['CurrentJobTitleSelect'].value_counts())\n",
    "jbttl_df['Ratio'] = pd.DataFrame(response['CurrentJobTitleSelect'].value_counts(normalize=True))\n",
    "jbttl_df.head(10)"
   ]
  },
  {
   "cell_type": "code",
   "execution_count": null,
   "metadata": {
    "_uuid": "3712a86f9deb180f25d81bd79d9033a095d970bf"
   },
   "outputs": [],
   "source": [
    "major_df = pd.DataFrame(response['MajorSelect'].value_counts())\n",
    "major_df['Ratio'] = pd.DataFrame(response['MajorSelect'].value_counts(normalize=True))\n",
    "major_df.head(10)"
   ]
  },
  {
   "cell_type": "code",
   "execution_count": null,
   "metadata": {
    "_uuid": "3952e0fe5cdd4e17660e646cd2bc9fb7c3b4082f"
   },
   "outputs": [],
   "source": [
    "major_df['Ratio'][:10].plot(kind='barh')"
   ]
  },
  {
   "cell_type": "code",
   "execution_count": null,
   "metadata": {
    "_uuid": "72ca6ad2dab312bf530ddffd2e15203c9065e55e"
   },
   "outputs": [],
   "source": [
    "jbttl_df['Ratio'][:10].plot(kind='barh')"
   ]
  },
  {
   "cell_type": "markdown",
   "metadata": {
    "_uuid": "3616653eb98d17a1e5b64f985424c6ceb87a34a7"
   },
   "source": [
    "> ### 1.5 Experienced period for Programming "
   ]
  },
  {
   "cell_type": "code",
   "execution_count": null,
   "metadata": {
    "_uuid": "51e561aa3bd9f77f372d8b9bd2ef8ec80af4614f"
   },
   "outputs": [],
   "source": [
    "sns.countplot(y='Tenure', data=response, order=response['Tenure'].value_counts().index)"
   ]
  },
  {
   "cell_type": "markdown",
   "metadata": {
    "_uuid": "471b4ad5e37d77b9894acb43c9892b1208126906"
   },
   "source": [
    "## 2. Requirements to become a Data scientist"
   ]
  },
  {
   "cell_type": "markdown",
   "metadata": {
    "_uuid": "c98a60020e82c362b4cf35a41106bb48ea6d343e"
   },
   "source": [
    "> ### 2.1 Recommeded Degree \n"
   ]
  },
  {
   "cell_type": "code",
   "execution_count": null,
   "metadata": {
    "_uuid": "f624a3aef9d32f2a4dc122a3806da8d468ffb22c"
   },
   "outputs": [],
   "source": [
    "edu_df = pd.DataFrame(response['FormalEducation'].value_counts())\n",
    "edu_df['Ratio'] = pd.DataFrame(response['FormalEducation'].value_counts(normalize=True))\n",
    "edu_df.head()"
   ]
  },
  {
   "cell_type": "code",
   "execution_count": null,
   "metadata": {
    "_uuid": "e32619b524e0da1ecb45247ac70e655b3164165c"
   },
   "outputs": [],
   "source": [
    "sns.barplot(edu_df['Ratio'],edu_df['Ratio'].index,palette='inferno')\n",
    "plt.title(\"Formal Education\")\n",
    "plt.xlabel('')\n",
    "plt.ylabel('')\n",
    "plt.subplots_adjust(wspace=0.8)\n",
    "plt.show()"
   ]
  },
  {
   "cell_type": "markdown",
   "metadata": {
    "_uuid": "baf135422ac9f7a79735e18cbdb4d5ce4f30ea28"
   },
   "source": [
    "In total, Master and Ph.D degree is mainly(around 73%) composed of education level <br/>\n",
    "** For the importance of degree, we need to dig into 'JobSkillImportanceDegree' column **"
   ]
  },
  {
   "cell_type": "markdown",
   "metadata": {
    "_uuid": "20c90730f0bf9abb02b065b13337127aa3c0bf15"
   },
   "source": [
    "> ### 2.2 Recommended Skills"
   ]
  },
  {
   "cell_type": "code",
   "execution_count": null,
   "metadata": {
    "_uuid": "aaf160672bb2856bde93e1fbb206eeae1914ceb4"
   },
   "outputs": [],
   "source": [
    "sns.countplot(y='LanguageRecommendationSelect', data=response, order=response['LanguageRecommendationSelect'].value_counts()[:9].index)\n",
    "plt.title(\"Recommended languages\")\n",
    "plt.xlabel('')\n",
    "plt.ylabel('')\n",
    "plt.show()"
   ]
  },
  {
   "cell_type": "markdown",
   "metadata": {
    "_uuid": "8820a1daa95560f0ca114c9f91d1c02b7be81fd7"
   },
   "source": [
    "> ### 2.3 Importance of Algorithm / Stats / ML"
   ]
  },
  {
   "cell_type": "code",
   "execution_count": null,
   "metadata": {
    "_uuid": "0ebe0490a8dd8c664da4d324313062a3ea080cea"
   },
   "outputs": [],
   "source": [
    "sns.countplot(y='MLToolNextYearSelect', data=response, order=response['MLToolNextYearSelect'].value_counts()[:9].index)\n",
    "plt.title(\"Recommended ML Skills\")\n",
    "plt.xlabel('')\n",
    "plt.ylabel('')\n",
    "plt.show()"
   ]
  },
  {
   "cell_type": "markdown",
   "metadata": {
    "_uuid": "3040babe0b80142654dda8c2d39e1cc013f22d84"
   },
   "source": [
    "> ### 2.4 Importance of Algorithms "
   ]
  },
  {
   "cell_type": "code",
   "execution_count": null,
   "metadata": {
    "_uuid": "075b2bba67bd18603a15ba7c1b2d77669cebe1c2"
   },
   "outputs": [],
   "source": [
    "f,ax=plt.subplots(1,2,figsize=(25,12))\n",
    "sns.countplot(y=response['AlgorithmUnderstandingLevel'],order=response['AlgorithmUnderstandingLevel'].value_counts().index,ax=ax[0],palette=sns.color_palette('summer',15))\n",
    "sns.countplot(response['JobSkillImportanceStats'],ax=ax[1])\n",
    "ax[0].set_title('Algorithm Understanding')\n",
    "ax[0].set_ylabel('')\n",
    "ax[1].set_title('Knowledge of Stats')\n",
    "ax[1].set_xlabel('')\n",
    "plt.show()"
   ]
  },
  {
   "cell_type": "markdown",
   "metadata": {
    "_uuid": "0a0a3524989df4153fd790c0f82d4fe1061c07f2"
   },
   "source": [
    "> ### 2.5 Recommended Learning platform"
   ]
  },
  {
   "cell_type": "code",
   "execution_count": null,
   "metadata": {
    "_uuid": "ac9ee140c521ed03e6d294e0c3835c8dd5f2ab00"
   },
   "outputs": [],
   "source": [
    "sns.countplot(y='LearningPlatformSelect', data=response, order=response['LearningPlatformSelect'].value_counts()[:9].index)\n",
    "plt.title(\"Recommended Learning platform\")\n",
    "plt.xlabel('')\n",
    "plt.ylabel('')\n",
    "plt.show()"
   ]
  },
  {
   "cell_type": "markdown",
   "metadata": {
    "_uuid": "358aa653f50b02daba2a3c0e52dd8a8287d9c2fc"
   },
   "source": [
    "## 3. Job searching"
   ]
  },
  {
   "cell_type": "markdown",
   "metadata": {
    "_uuid": "048dd557278c78942214e939d66f0c5275b38661"
   },
   "source": [
    "> ### 3.1 The way to prove knowledge for Data scientist"
   ]
  },
  {
   "cell_type": "code",
   "execution_count": null,
   "metadata": {
    "_uuid": "faa49a2f5c917b7bf73caaffca5c5456a20b8b3e"
   },
   "outputs": [],
   "source": [
    "sns.countplot(y=response['ProveKnowledgeSelect'],order=response['ProveKnowledgeSelect'].value_counts().index,palette=sns.color_palette('inferno',15))\n",
    "plt.xlabel('')\n",
    "plt.ylabel('')\n",
    "plt.title('How to prove knowledge')\n",
    "plt.show()"
   ]
  },
  {
   "cell_type": "markdown",
   "metadata": {
    "_uuid": "4567a77cb684237ef96b5b4025ca6cfafb95bcd0"
   },
   "source": [
    "> ### 3.2 Job searching Method"
   ]
  },
  {
   "cell_type": "code",
   "execution_count": null,
   "metadata": {
    "_uuid": "7c6d46c427377f5b37d36d12b4e00f4b0aa59029"
   },
   "outputs": [],
   "source": [
    "plt.subplots(figsize=(10,8))\n",
    "response.groupby(['EmployerSearchMethod'])['Age'].count().sort_values(ascending=True).plot.barh(width=0.8,color=sns.color_palette('winter',10))\n",
    "plt.title('Job Search Method',size=15)\n",
    "plt.ylabel('')\n",
    "plt.show()"
   ]
  },
  {
   "cell_type": "markdown",
   "metadata": {
    "_uuid": "11891decfe1399df8ec6f209a1d4bf2ba212f87d"
   },
   "source": [
    "## 4. Conclusion"
   ]
  },
  {
   "cell_type": "markdown",
   "metadata": {
    "_uuid": "695d2516191054366bdc1cdcf6df5b84dd41b126"
   },
   "source": [
    "> * Required relevant skills of Data Science : Python > R > SQL. When it comes to ML, Tensorflow is the most important skill. Those skills are considered essential skills and It is needed to be digging into for the importance of each skill.\n",
    "* Statistics and Algorithm are also important, especially Statistics, people prefer self-learning platform to degree program. It might be said that the importance of degree might is not true. Kaggle, Individual project and Online course can be appealed to the industry.\n",
    "* When we are joining to company, Relevaent experience > Submission on Kaggle > Online course Certification  > Degree(Master/Ph.D) > Portpolio on Github. Many of respondents tend to apply for job vacancy through network. This results, of course, that limit to Job market in US.\n",
    "\n",
    "### Limitation\n",
    "* More elaborate Data cleaning is needed due to Null value. \n",
    "* For more detailed analysis and insights, each analysis depeds on various sectors like Age/Nation/Gender/Industry are required."
   ]
  }
 ],
 "metadata": {
  "kernelspec": {
   "display_name": "Python 3",
   "language": "python",
   "name": "python3"
  },
  "language_info": {
   "codemirror_mode": {
    "name": "ipython",
    "version": 3
   },
   "file_extension": ".py",
   "mimetype": "text/x-python",
   "name": "python",
   "nbconvert_exporter": "python",
   "pygments_lexer": "ipython3",
   "version": "3.6.5"
  }
 },
 "nbformat": 4,
 "nbformat_minor": 1
}
